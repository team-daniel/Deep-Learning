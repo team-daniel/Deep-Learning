{
 "cells": [
  {
   "cell_type": "markdown",
   "id": "276c640d",
   "metadata": {},
   "source": [
    "# Reinforcement Learning Explained"
   ]
  },
  {
   "cell_type": "markdown",
   "id": "4ac2eebe",
   "metadata": {},
   "source": [
    "## Imports"
   ]
  },
  {
   "cell_type": "code",
   "execution_count": 1,
   "id": "4d4a179d",
   "metadata": {},
   "outputs": [],
   "source": [
    "import gym\n",
    "import numpy as np\n",
    "import matplotlib.pylab as plt\n",
    "from collections import OrderedDict\n",
    "plt.style.use(['science'])"
   ]
  },
  {
   "cell_type": "markdown",
   "id": "8ea9cb94",
   "metadata": {},
   "source": [
    "## Environment"
   ]
  },
  {
   "cell_type": "code",
   "execution_count": 2,
   "id": "9d69d86e",
   "metadata": {},
   "outputs": [],
   "source": [
    "env = gym.make(\"FrozenLake-v1\", map_name=\"4x4\", is_slippery=False)"
   ]
  },
  {
   "cell_type": "code",
   "execution_count": 3,
   "id": "4027a1a4",
   "metadata": {},
   "outputs": [
    {
     "data": {
      "text/plain": [
       "Discrete(4)"
      ]
     },
     "execution_count": 3,
     "metadata": {},
     "output_type": "execute_result"
    }
   ],
   "source": [
    "env.action_space"
   ]
  },
  {
   "cell_type": "code",
   "execution_count": 4,
   "id": "a134fd6e",
   "metadata": {},
   "outputs": [
    {
     "data": {
      "text/plain": [
       "Discrete(16)"
      ]
     },
     "execution_count": 4,
     "metadata": {},
     "output_type": "execute_result"
    }
   ],
   "source": [
    "env.observation_space"
   ]
  },
  {
   "cell_type": "code",
   "execution_count": 5,
   "id": "c33aff35",
   "metadata": {},
   "outputs": [],
   "source": [
    "# Remove comments of this cell if you would like to visualize the Frozen Lake envrionment\n",
    "#env.reset()\n",
    "#env.render()"
   ]
  },
  {
   "cell_type": "markdown",
   "id": "72d02e54",
   "metadata": {},
   "source": [
    "## Greedy Epsilon Algorithm"
   ]
  },
  {
   "cell_type": "code",
   "execution_count": 6,
   "id": "b2cf7e15",
   "metadata": {},
   "outputs": [],
   "source": [
    "def act(state):\n",
    "    rand = np.random.uniform()\n",
    "    \n",
    "    if state not in Q:\n",
    "        Q[state] = np.zeros((env.action_space.n))\n",
    "    \n",
    "    if rand < epsilon:\n",
    "        action = env.action_space.sample()\n",
    "    else:\n",
    "        if state in Q:\n",
    "            action = np.argmax(Q[state])\n",
    "        else:\n",
    "            action = env.action_space.sample()\n",
    "    \n",
    "    state, reward, done, _ = env.step(action)\n",
    "    \n",
    "    if state not in Q:\n",
    "        Q[state] = np.zeros((env.action_space.n))\n",
    "    \n",
    "    return state, action, reward, done"
   ]
  },
  {
   "cell_type": "markdown",
   "id": "4838ec03",
   "metadata": {},
   "source": [
    "## Agent Training"
   ]
  },
  {
   "cell_type": "code",
   "execution_count": 7,
   "id": "6e31e441",
   "metadata": {},
   "outputs": [],
   "source": [
    "EPISODES = 1000\n",
    "TESTS = 1\n",
    "MAX_STEPS = 50\n",
    "min_epsilon = 0.1\n",
    "decay = 0.003\n",
    "gamma = 0.95\n",
    "alpha = 0.1\n",
    "update_every = 1"
   ]
  },
  {
   "cell_type": "code",
   "execution_count": 8,
   "id": "0f17baa2",
   "metadata": {},
   "outputs": [],
   "source": [
    "train_epsilon = np.zeros(EPISODES)\n",
    "train_rewards = np.zeros(EPISODES)\n",
    "test_rewards = np.zeros(TESTS)"
   ]
  },
  {
   "cell_type": "code",
   "execution_count": 9,
   "id": "ca196602",
   "metadata": {},
   "outputs": [],
   "source": [
    "Q = dict() "
   ]
  },
  {
   "cell_type": "code",
   "execution_count": 10,
   "id": "55969e47",
   "metadata": {},
   "outputs": [],
   "source": [
    "for episode in range(EPISODES):\n",
    "    state = env.reset()\n",
    "    \n",
    "    done = False\n",
    "    reward_sum = 0\n",
    "    \n",
    "    epsilon = min_epsilon + (1 - min_epsilon) * np.exp(-decay * episode)\n",
    "    \n",
    "    for step in range(MAX_STEPS):\n",
    "        new_state, action, reward, done = act(state)\n",
    "        \n",
    "        Q[state][action] = Q[state][action] + alpha * (gamma * np.max(Q[new_state]) + reward - Q[state][action])\n",
    "        \n",
    "        state = new_state\n",
    "        \n",
    "        reward_sum += reward\n",
    "        \n",
    "        if done:\n",
    "            break\n",
    "        \n",
    "    if not episode % update_every or episode == 1: \n",
    "        train_rewards[episode] = reward_sum\n",
    "        train_epsilon[episode] = epsilon"
   ]
  },
  {
   "cell_type": "code",
   "execution_count": 11,
   "id": "ceac146a",
   "metadata": {},
   "outputs": [
    {
     "name": "stdout",
     "output_type": "stream",
     "text": [
      "State: 0 - Q Values: [0.73376654 0.77378094 0.68790643 0.73249203]\n",
      "State: 1 - Q Values: [0.73300863 0.         0.06264996 0.12316564]\n",
      "State: 2 - Q Values: [2.56686860e-01 2.30395150e-02 3.82334238e-07 0.00000000e+00]\n",
      "State: 3 - Q Values: [7.64668477e-06 0.00000000e+00 0.00000000e+00 3.82334238e-07]\n",
      "State: 4 - Q Values: [0.77215239 0.81450625 0.         0.73381051]\n",
      "State: 5 - Q Values: [0. 0. 0. 0.]\n",
      "State: 6 - Q Values: [0.         0.46928467 0.         0.00660834]\n",
      "State: 7 - Q Values: [0. 0. 0. 0.]\n",
      "State: 8 - Q Values: [0.80981939 0.         0.857375   0.76890276]\n",
      "State: 9 - Q Values: [0.80531097 0.9025     0.88324375 0.        ]\n",
      "State: 10 - Q Values: [0.46101987 0.94976195 0.         0.11295669]\n",
      "State: 11 - Q Values: [0. 0. 0. 0.]\n",
      "State: 12 - Q Values: [0. 0. 0. 0.]\n",
      "State: 13 - Q Values: [0.         0.88633689 0.95       0.85067407]\n",
      "State: 14 - Q Values: [0.88895441 0.94501894 1.         0.89074498]\n",
      "State: 15 - Q Values: [0. 0. 0. 0.]\n"
     ]
    }
   ],
   "source": [
    "ordered_Q_table = OrderedDict(sorted(Q.items(), key=lambda t: t[0]))\n",
    "for key, value in ordered_Q_table.items():\n",
    "    print(f'State: {key} - Q Values: {value}')"
   ]
  },
  {
   "cell_type": "markdown",
   "id": "8968cfc4",
   "metadata": {},
   "source": [
    "## Agent Testing"
   ]
  },
  {
   "cell_type": "code",
   "execution_count": 12,
   "id": "eda45a19",
   "metadata": {},
   "outputs": [
    {
     "name": "stdout",
     "output_type": "stream",
     "text": [
      "Number of steps taken: 5 - Reached goal? : Yes\n"
     ]
    }
   ],
   "source": [
    "epsilon = 0\n",
    "for episode in range(TESTS):\n",
    "    state = env.reset()\n",
    "    \n",
    "    done = False\n",
    "    reward_sum = 0\n",
    "    \n",
    "    for step in range(MAX_STEPS):\n",
    "        state, action, reward, done = act(state)\n",
    "        \n",
    "        reward_sum += reward\n",
    "        \n",
    "        if done:\n",
    "            break\n",
    "    \n",
    "    test_rewards[episode] = reward_sum\n",
    "\n",
    "print(f'Number of steps taken: {step} - Reached goal? : {\"Yes\" if test_rewards[0] == 1 else \"No\"}')"
   ]
  },
  {
   "cell_type": "code",
   "execution_count": 13,
   "id": "ef393f36",
   "metadata": {},
   "outputs": [
    {
     "name": "stderr",
     "output_type": "stream",
     "text": [
      "No handles with labels found to put in legend.\n"
     ]
    },
    {
     "data": {
      "text/plain": [
       "<matplotlib.legend.Legend at 0x256a61bf910>"
      ]
     },
     "execution_count": 13,
     "metadata": {},
     "output_type": "execute_result"
    },
    {
     "data": {
      "image/png": "[encoded data removed]",
      "text/plain": [
       "<Figure size 864x360 with 1 Axes>"
      ]
     },
     "metadata": {
      "needs_background": "light"
     },
     "output_type": "display_data"
    }
   ],
   "source": [
    "fig = plt.figure(figsize=(12, 5))\n",
    "plt.grid()\n",
    "plt.plot(np.cumsum(train_rewards))\n",
    "plt.ylabel('Cumulative Reward')\n",
    "plt.xlabel('Episode')\n",
    "plt.xlim([0, EPISODES])\n",
    "plt.ylim([0, np.amax(np.cumsum(train_rewards))])\n",
    "plt.legend()"
   ]
  },
  {
   "cell_type": "code",
   "execution_count": null,
   "id": "aa11fb73",
   "metadata": {},
   "outputs": [],
   "source": []
  }
 ],
 "metadata": {
  "kernelspec": {
   "display_name": "Python 3 (ipykernel)",
   "language": "python",
   "name": "python3"
  },
  "language_info": {
   "codemirror_mode": {
    "name": "ipython",
    "version": 3
   },
   "file_extension": ".py",
   "mimetype": "text/x-python",
   "name": "python",
   "nbconvert_exporter": "python",
   "pygments_lexer": "ipython3",
   "version": "3.9.7"
  }
 },
 "nbformat": 4,
 "nbformat_minor": 5
}
